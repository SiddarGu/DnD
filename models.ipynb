{
 "cells": [
  {
   "cell_type": "code",
   "execution_count": 1,
   "metadata": {},
   "outputs": [],
   "source": [
    "import json\n",
    "from sklearn.feature_extraction.text import TfidfVectorizer\n",
    "from sklearn.linear_model import LogisticRegression\n",
    "from sklearn.preprocessing import LabelEncoder\n",
    "from sklearn.naive_bayes import MultinomialNB\n",
    "from sklearn.svm import LinearSVC\n",
    "from sklearn.ensemble import RandomForestClassifier"
   ]
  },
  {
   "cell_type": "code",
   "execution_count": 2,
   "metadata": {},
   "outputs": [],
   "source": [
    "# Load the jsonl data\n",
    "def load_jsonl(input_path):\n",
    "    with open(input_path, 'r', encoding='utf-8') as f:\n",
    "        lines = f.readlines()\n",
    "        data = [json.loads(line.strip()) for line in lines]\n",
    "    return data\n",
    "\n",
    "# Assume each JSON object has a 'text' field and a 'label' field\n",
    "train_data = load_jsonl('data/train.jsonl')\n",
    "val_data = load_jsonl('data/valid.jsonl')\n",
    "\n",
    "train_texts = [item['input'] for item in train_data]\n",
    "train_labels = [item['target'] for item in train_data]\n",
    "val_texts = [item['input'] for item in val_data]\n",
    "val_labels = [item['target'] for item in val_data]"
   ]
  },
  {
   "cell_type": "code",
   "execution_count": 3,
   "metadata": {},
   "outputs": [],
   "source": [
    "# Encode labels from strings to integers\n",
    "label_encoder = LabelEncoder()\n",
    "train_labels_encoded = label_encoder.fit_transform(train_labels)\n",
    "val_labels_encoded = label_encoder.transform(val_labels)\n",
    "\n",
    "# Create a TF-IDF vectorizer\n",
    "vectorizer = TfidfVectorizer(max_features=5000)  # Adjust the max_features and other parameters as needed\n",
    "\n",
    "# Fit the vectorizer on training data and transform training and validation texts\n",
    "train_features = vectorizer.fit_transform(train_texts)\n",
    "val_features = vectorizer.transform(val_texts)"
   ]
  },
  {
   "cell_type": "markdown",
   "metadata": {},
   "source": [
    "# Logistic Regression"
   ]
  },
  {
   "cell_type": "code",
   "execution_count": 27,
   "metadata": {},
   "outputs": [
    {
     "name": "stdout",
     "output_type": "stream",
     "text": [
      "Logistic regression accuracy: 45.86%\n"
     ]
    }
   ],
   "source": [
    "# Train a Logistic Regression classifier\n",
    "lr_clf = LogisticRegression(max_iter=10000)  # Adjust the max_iter and other parameters as needed\n",
    "lr_clf.fit(train_features, train_labels_encoded)\n",
    "\n",
    "# Predict on validation set\n",
    "val_predictions_encoded = lr_clf.predict(val_features)\n",
    "\n",
    "# Decode the predictions back to original labels\n",
    "val_predictions = label_encoder.inverse_transform(val_predictions_encoded)\n",
    "\n",
    "total = 0\n",
    "correct = 0\n",
    "for i in range(len(val_labels)):\n",
    "    if val_labels[i] == val_predictions[i]:\n",
    "        correct += 1\n",
    "    total += 1\n",
    "# Print accuracy percentage rounded to 2 decimal points\n",
    "print(\"Logistic regression accuracy: {:.2f}%\".format(correct / total * 100))"
   ]
  },
  {
   "cell_type": "markdown",
   "metadata": {},
   "source": [
    "# Naive Bayes"
   ]
  },
  {
   "cell_type": "code",
   "execution_count": 5,
   "metadata": {},
   "outputs": [
    {
     "name": "stdout",
     "output_type": "stream",
     "text": [
      "Naive Bayes accuracy: 28.89%\n"
     ]
    }
   ],
   "source": [
    "# Train a Multinomial Naive Bayes classifier\n",
    "nb_clf = MultinomialNB()\n",
    "nb_clf.fit(train_features, train_labels_encoded)\n",
    "\n",
    "# Predict on validation set\n",
    "val_predictions_encoded = nb_clf.predict(val_features)\n",
    "\n",
    "# Decode the predictions back to original labels\n",
    "val_predictions = label_encoder.inverse_transform(val_predictions_encoded)\n",
    "\n",
    "total = 0\n",
    "correct = 0\n",
    "for i in range(len(val_labels)):\n",
    "    if val_labels[i] == val_predictions[i]:\n",
    "        correct += 1\n",
    "    total += 1\n",
    "print(\"Naive Bayes accuracy: {:.2f}%\".format(correct / total * 100))"
   ]
  },
  {
   "cell_type": "markdown",
   "metadata": {},
   "source": [
    "# SVM"
   ]
  },
  {
   "cell_type": "code",
   "execution_count": 35,
   "metadata": {},
   "outputs": [
    {
     "name": "stdout",
     "output_type": "stream",
     "text": [
      "SVM accuracy: 84.65%\n"
     ]
    }
   ],
   "source": [
    "# Train a Linear SVM classifier\n",
    "svm_clf = LinearSVC(max_iter=10000, random_state=42)  # You can adjust the max_iter and other parameters as needed\n",
    "svm_clf.fit(train_features, train_labels_encoded)\n",
    "\n",
    "# Predict on validation set\n",
    "val_predictions_encoded = svm_clf.predict(val_features)\n",
    "\n",
    "# Decode the predictions back to original labels\n",
    "val_predictions = label_encoder.inverse_transform(val_predictions_encoded)\n",
    "\n",
    "total = 0\n",
    "correct = 0\n",
    "for i in range(len(val_labels)):\n",
    "    if val_labels[i] == val_predictions[i]:\n",
    "        correct += 1\n",
    "    total += 1\n",
    "print(\"SVM accuracy: {:.2f}%\".format(correct / total * 100))"
   ]
  },
  {
   "cell_type": "markdown",
   "metadata": {},
   "source": [
    "# Random Forest"
   ]
  },
  {
   "cell_type": "code",
   "execution_count": 32,
   "metadata": {},
   "outputs": [
    {
     "name": "stdout",
     "output_type": "stream",
     "text": [
      "Random Forest accuracy: 78.99%\n"
     ]
    }
   ],
   "source": [
    "# Train a Random Forest classifier\n",
    "rf_clf = RandomForestClassifier(n_estimators=300, random_state=42)  # Adjust the n_estimators and other parameters as needed\n",
    "rf_clf.fit(train_features, train_labels_encoded)\n",
    "\n",
    "# Predict on validation set\n",
    "val_predictions_encoded = rf_clf.predict(val_features)\n",
    "\n",
    "# Decode the predictions back to original labels\n",
    "val_predictions = label_encoder.inverse_transform(val_predictions_encoded)\n",
    "\n",
    "total = 0\n",
    "correct = 0\n",
    "for i in range(len(val_labels)):\n",
    "    if val_labels[i] == val_predictions[i]:\n",
    "        correct += 1\n",
    "    total += 1\n",
    "print(\"Random Forest accuracy: {:.2f}%\".format(correct / total * 100))"
   ]
  },
  {
   "cell_type": "code",
   "execution_count": 8,
   "metadata": {},
   "outputs": [],
   "source": [
    "def predict_label(sentence, vectorizer, classifier, label_encoder):\n",
    "    # Transform the sentence using the trained TF-IDF vectorizer\n",
    "    features = vectorizer.transform([sentence])\n",
    "    \n",
    "    # Predict the class using the trained classifier\n",
    "    prediction_encoded = classifier.predict(features)\n",
    "    \n",
    "    # Decode the prediction to the original label\n",
    "    prediction = label_encoder.inverse_transform(prediction_encoded)\n",
    "    \n",
    "    return prediction[0]"
   ]
  },
  {
   "cell_type": "code",
   "execution_count": 26,
   "metadata": {},
   "outputs": [
    {
     "name": "stdout",
     "output_type": "stream",
     "text": [
      "The predicted label for the sentence is: dexterity\n"
     ]
    }
   ],
   "source": [
    "# Example usage:\n",
    "sentence = \"Give me a dex check\"\n",
    "predicted_label = predict_label(sentence, vectorizer, svm_clf, label_encoder)\n",
    "print(f\"The predicted label for the sentence is: {predicted_label}\")"
   ]
  }
 ],
 "metadata": {
  "kernelspec": {
   "display_name": "base",
   "language": "python",
   "name": "python3"
  },
  "language_info": {
   "codemirror_mode": {
    "name": "ipython",
    "version": 3
   },
   "file_extension": ".py",
   "mimetype": "text/x-python",
   "name": "python",
   "nbconvert_exporter": "python",
   "pygments_lexer": "ipython3",
   "version": "3.10.9"
  }
 },
 "nbformat": 4,
 "nbformat_minor": 2
}
